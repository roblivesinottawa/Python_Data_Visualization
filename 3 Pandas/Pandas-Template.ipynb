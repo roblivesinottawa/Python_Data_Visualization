{
 "cells": [
  {
   "cell_type": "code",
   "execution_count": 1,
   "source": [
    "import pandas as pd\n",
    "import numpy as np"
   ],
   "outputs": [],
   "metadata": {}
  },
  {
   "cell_type": "code",
   "execution_count": 2,
   "source": [
    "# create sample data: list method\n",
    "carLoans = [[1, 34689.96, 687.23, 202.93, 484.3, 34205.66, 60, 0.0702,'Toyota Sienna'],\n",
    "           [2, 34205.66, 687.23, 200.1, 487.13, 33718.53, 60, 0.0702,'Toyota Sienna'],\n",
    "           [3, 33718.53, 687.23, 197.25, 489.98, 33228.55, 60, 0.0702,'Toyota Sienna'],\n",
    "           [4, 33228.55, 687.23, 194.38, 492.85, 32735.7, 60, 0.0702,'Toyota Sienna'],\n",
    "           [5, 32735.7, 687.23, 191.5, 495.73, 32239.97, 60, 0.0702,'Toyota Sienna']]\n",
    "\n",
    "colNames = ['Month',\n",
    "            'Starting Balance',\n",
    "            'Repayment',\n",
    "            'Interest Paid',\n",
    "            'Principal Paid',\n",
    "            'New Balance',\n",
    "            'term',\n",
    "            'interest_rate',\n",
    "            'car_type']\n"
   ],
   "outputs": [],
   "metadata": {}
  },
  {
   "cell_type": "code",
   "execution_count": 4,
   "source": [
    "df = pd.DataFrame(data=carLoans, columns=colNames)\n",
    "df"
   ],
   "outputs": [
    {
     "output_type": "execute_result",
     "data": {
      "text/plain": [
       "   Month  Starting Balance  Repayment  Interest Paid  Principal Paid  \\\n",
       "0      1          34689.96     687.23         202.93          484.30   \n",
       "1      2          34205.66     687.23         200.10          487.13   \n",
       "2      3          33718.53     687.23         197.25          489.98   \n",
       "3      4          33228.55     687.23         194.38          492.85   \n",
       "4      5          32735.70     687.23         191.50          495.73   \n",
       "\n",
       "   New Balance  term  interest_rate       car_type  \n",
       "0     34205.66    60         0.0702  Toyota Sienna  \n",
       "1     33718.53    60         0.0702  Toyota Sienna  \n",
       "2     33228.55    60         0.0702  Toyota Sienna  \n",
       "3     32735.70    60         0.0702  Toyota Sienna  \n",
       "4     32239.97    60         0.0702  Toyota Sienna  "
      ],
      "text/html": [
       "<div>\n",
       "<style scoped>\n",
       "    .dataframe tbody tr th:only-of-type {\n",
       "        vertical-align: middle;\n",
       "    }\n",
       "\n",
       "    .dataframe tbody tr th {\n",
       "        vertical-align: top;\n",
       "    }\n",
       "\n",
       "    .dataframe thead th {\n",
       "        text-align: right;\n",
       "    }\n",
       "</style>\n",
       "<table border=\"1\" class=\"dataframe\">\n",
       "  <thead>\n",
       "    <tr style=\"text-align: right;\">\n",
       "      <th></th>\n",
       "      <th>Month</th>\n",
       "      <th>Starting Balance</th>\n",
       "      <th>Repayment</th>\n",
       "      <th>Interest Paid</th>\n",
       "      <th>Principal Paid</th>\n",
       "      <th>New Balance</th>\n",
       "      <th>term</th>\n",
       "      <th>interest_rate</th>\n",
       "      <th>car_type</th>\n",
       "    </tr>\n",
       "  </thead>\n",
       "  <tbody>\n",
       "    <tr>\n",
       "      <th>0</th>\n",
       "      <td>1</td>\n",
       "      <td>34689.96</td>\n",
       "      <td>687.23</td>\n",
       "      <td>202.93</td>\n",
       "      <td>484.30</td>\n",
       "      <td>34205.66</td>\n",
       "      <td>60</td>\n",
       "      <td>0.0702</td>\n",
       "      <td>Toyota Sienna</td>\n",
       "    </tr>\n",
       "    <tr>\n",
       "      <th>1</th>\n",
       "      <td>2</td>\n",
       "      <td>34205.66</td>\n",
       "      <td>687.23</td>\n",
       "      <td>200.10</td>\n",
       "      <td>487.13</td>\n",
       "      <td>33718.53</td>\n",
       "      <td>60</td>\n",
       "      <td>0.0702</td>\n",
       "      <td>Toyota Sienna</td>\n",
       "    </tr>\n",
       "    <tr>\n",
       "      <th>2</th>\n",
       "      <td>3</td>\n",
       "      <td>33718.53</td>\n",
       "      <td>687.23</td>\n",
       "      <td>197.25</td>\n",
       "      <td>489.98</td>\n",
       "      <td>33228.55</td>\n",
       "      <td>60</td>\n",
       "      <td>0.0702</td>\n",
       "      <td>Toyota Sienna</td>\n",
       "    </tr>\n",
       "    <tr>\n",
       "      <th>3</th>\n",
       "      <td>4</td>\n",
       "      <td>33228.55</td>\n",
       "      <td>687.23</td>\n",
       "      <td>194.38</td>\n",
       "      <td>492.85</td>\n",
       "      <td>32735.70</td>\n",
       "      <td>60</td>\n",
       "      <td>0.0702</td>\n",
       "      <td>Toyota Sienna</td>\n",
       "    </tr>\n",
       "    <tr>\n",
       "      <th>4</th>\n",
       "      <td>5</td>\n",
       "      <td>32735.70</td>\n",
       "      <td>687.23</td>\n",
       "      <td>191.50</td>\n",
       "      <td>495.73</td>\n",
       "      <td>32239.97</td>\n",
       "      <td>60</td>\n",
       "      <td>0.0702</td>\n",
       "      <td>Toyota Sienna</td>\n",
       "    </tr>\n",
       "  </tbody>\n",
       "</table>\n",
       "</div>"
      ]
     },
     "metadata": {},
     "execution_count": 4
    }
   ],
   "metadata": {}
  },
  {
   "cell_type": "code",
   "execution_count": 5,
   "source": [
    "# create sample data: numpy array method\n",
    "carLoans = np.array([\n",
    "                  [1, 34689.96, 687.23, 202.93, 484.3, 34205.66, 60, 0.0702,'Toyota Sienna'],\n",
    "                  [2, 34205.66, 687.23, 200.1, 487.13, 33718.53, 60, 0.0702,'Toyota Sienna'],\n",
    "                  [3, 33718.53, 687.23, 197.25, 489.98, 33228.55, 60, 0.0702,'Toyota Sienna'],\n",
    "                  [4, 33228.55, 687.23, 194.38, 492.85, 32735.7, 60, 0.0702,'Toyota Sienna'],\n",
    "                  [5, 32735.7, 687.23, 191.5, 495.73, 32239.97, 60, 0.0702,'Toyota Sienna']\n",
    "                 ])\n",
    "   \n",
    "colNames = ['Month',\n",
    "            'Starting Balance',\n",
    "            'Repayment',\n",
    "            'Interest Paid',\n",
    "            'Principal Paid',\n",
    "            'New Balance',\n",
    "            'term',\n",
    "            'interest_rate',\n",
    "            'car_type']\n",
    "\n",
    "df = pd.DataFrame(data = carLoans, columns=colNames)\n",
    "df\n"
   ],
   "outputs": [
    {
     "output_type": "execute_result",
     "data": {
      "text/plain": [
       "  Month Starting Balance Repayment Interest Paid Principal Paid New Balance  \\\n",
       "0     1         34689.96    687.23        202.93          484.3    34205.66   \n",
       "1     2         34205.66    687.23         200.1         487.13    33718.53   \n",
       "2     3         33718.53    687.23        197.25         489.98    33228.55   \n",
       "3     4         33228.55    687.23        194.38         492.85     32735.7   \n",
       "4     5          32735.7    687.23         191.5         495.73    32239.97   \n",
       "\n",
       "  term interest_rate       car_type  \n",
       "0   60        0.0702  Toyota Sienna  \n",
       "1   60        0.0702  Toyota Sienna  \n",
       "2   60        0.0702  Toyota Sienna  \n",
       "3   60        0.0702  Toyota Sienna  \n",
       "4   60        0.0702  Toyota Sienna  "
      ],
      "text/html": [
       "<div>\n",
       "<style scoped>\n",
       "    .dataframe tbody tr th:only-of-type {\n",
       "        vertical-align: middle;\n",
       "    }\n",
       "\n",
       "    .dataframe tbody tr th {\n",
       "        vertical-align: top;\n",
       "    }\n",
       "\n",
       "    .dataframe thead th {\n",
       "        text-align: right;\n",
       "    }\n",
       "</style>\n",
       "<table border=\"1\" class=\"dataframe\">\n",
       "  <thead>\n",
       "    <tr style=\"text-align: right;\">\n",
       "      <th></th>\n",
       "      <th>Month</th>\n",
       "      <th>Starting Balance</th>\n",
       "      <th>Repayment</th>\n",
       "      <th>Interest Paid</th>\n",
       "      <th>Principal Paid</th>\n",
       "      <th>New Balance</th>\n",
       "      <th>term</th>\n",
       "      <th>interest_rate</th>\n",
       "      <th>car_type</th>\n",
       "    </tr>\n",
       "  </thead>\n",
       "  <tbody>\n",
       "    <tr>\n",
       "      <th>0</th>\n",
       "      <td>1</td>\n",
       "      <td>34689.96</td>\n",
       "      <td>687.23</td>\n",
       "      <td>202.93</td>\n",
       "      <td>484.3</td>\n",
       "      <td>34205.66</td>\n",
       "      <td>60</td>\n",
       "      <td>0.0702</td>\n",
       "      <td>Toyota Sienna</td>\n",
       "    </tr>\n",
       "    <tr>\n",
       "      <th>1</th>\n",
       "      <td>2</td>\n",
       "      <td>34205.66</td>\n",
       "      <td>687.23</td>\n",
       "      <td>200.1</td>\n",
       "      <td>487.13</td>\n",
       "      <td>33718.53</td>\n",
       "      <td>60</td>\n",
       "      <td>0.0702</td>\n",
       "      <td>Toyota Sienna</td>\n",
       "    </tr>\n",
       "    <tr>\n",
       "      <th>2</th>\n",
       "      <td>3</td>\n",
       "      <td>33718.53</td>\n",
       "      <td>687.23</td>\n",
       "      <td>197.25</td>\n",
       "      <td>489.98</td>\n",
       "      <td>33228.55</td>\n",
       "      <td>60</td>\n",
       "      <td>0.0702</td>\n",
       "      <td>Toyota Sienna</td>\n",
       "    </tr>\n",
       "    <tr>\n",
       "      <th>3</th>\n",
       "      <td>4</td>\n",
       "      <td>33228.55</td>\n",
       "      <td>687.23</td>\n",
       "      <td>194.38</td>\n",
       "      <td>492.85</td>\n",
       "      <td>32735.7</td>\n",
       "      <td>60</td>\n",
       "      <td>0.0702</td>\n",
       "      <td>Toyota Sienna</td>\n",
       "    </tr>\n",
       "    <tr>\n",
       "      <th>4</th>\n",
       "      <td>5</td>\n",
       "      <td>32735.7</td>\n",
       "      <td>687.23</td>\n",
       "      <td>191.5</td>\n",
       "      <td>495.73</td>\n",
       "      <td>32239.97</td>\n",
       "      <td>60</td>\n",
       "      <td>0.0702</td>\n",
       "      <td>Toyota Sienna</td>\n",
       "    </tr>\n",
       "  </tbody>\n",
       "</table>\n",
       "</div>"
      ]
     },
     "metadata": {},
     "execution_count": 5
    }
   ],
   "metadata": {}
  },
  {
   "cell_type": "code",
   "execution_count": 6,
   "source": [
    "# create sample data: Python Dictionary\n",
    "carLoans = {'Month': {0: 1, 1: 2, 2: 3, 3: 4, 4: 5},\n",
    "             'Starting Balance': {0: 34689.96,1: 34205.66,2: 33718.53,3: 33228.55,4: 32735.7},\n",
    "             'Repayment': {0: 687.23, 1: 687.23, 2: 687.23, 3: 687.23, 4: 687.23},\n",
    "             'Interest Paid': {0: 202.93, 1: 200.1, 2: 197.25, 3: 194.38, 4: 191.5},\n",
    "             'Principal Paid': {0: 484.3, 1: 487.13, 2: 489.98, 3: 492.85, 4: 495.73},\n",
    "             'New Balance': {0: 34205.66,1: 33718.53,2: 33228.55,3: 32735.7,4: 32239.97},\n",
    "             'term': {0: 60, 1: 60, 2: 60, 3: 60, 4: 60},\n",
    "             'interest_rate': {0: 0.0702, 1: 0.0702, 2: 0.0702, 3: 0.0702, 4: 0.0702},\n",
    "             'car_type': {0: 'Toyota Sienna',1: 'Toyota Sienna',2: 'Toyota Sienna',3: 'Toyota Sienna',4: 'Toyota Sienna'}}\n",
    "\n",
    "df = pd.DataFrame(data = carLoans, columns=colNames)\n",
    "df"
   ],
   "outputs": [
    {
     "output_type": "execute_result",
     "data": {
      "text/plain": [
       "   Month  Starting Balance  Repayment  Interest Paid  Principal Paid  \\\n",
       "0      1          34689.96     687.23         202.93          484.30   \n",
       "1      2          34205.66     687.23         200.10          487.13   \n",
       "2      3          33718.53     687.23         197.25          489.98   \n",
       "3      4          33228.55     687.23         194.38          492.85   \n",
       "4      5          32735.70     687.23         191.50          495.73   \n",
       "\n",
       "   New Balance  term  interest_rate       car_type  \n",
       "0     34205.66    60         0.0702  Toyota Sienna  \n",
       "1     33718.53    60         0.0702  Toyota Sienna  \n",
       "2     33228.55    60         0.0702  Toyota Sienna  \n",
       "3     32735.70    60         0.0702  Toyota Sienna  \n",
       "4     32239.97    60         0.0702  Toyota Sienna  "
      ],
      "text/html": [
       "<div>\n",
       "<style scoped>\n",
       "    .dataframe tbody tr th:only-of-type {\n",
       "        vertical-align: middle;\n",
       "    }\n",
       "\n",
       "    .dataframe tbody tr th {\n",
       "        vertical-align: top;\n",
       "    }\n",
       "\n",
       "    .dataframe thead th {\n",
       "        text-align: right;\n",
       "    }\n",
       "</style>\n",
       "<table border=\"1\" class=\"dataframe\">\n",
       "  <thead>\n",
       "    <tr style=\"text-align: right;\">\n",
       "      <th></th>\n",
       "      <th>Month</th>\n",
       "      <th>Starting Balance</th>\n",
       "      <th>Repayment</th>\n",
       "      <th>Interest Paid</th>\n",
       "      <th>Principal Paid</th>\n",
       "      <th>New Balance</th>\n",
       "      <th>term</th>\n",
       "      <th>interest_rate</th>\n",
       "      <th>car_type</th>\n",
       "    </tr>\n",
       "  </thead>\n",
       "  <tbody>\n",
       "    <tr>\n",
       "      <th>0</th>\n",
       "      <td>1</td>\n",
       "      <td>34689.96</td>\n",
       "      <td>687.23</td>\n",
       "      <td>202.93</td>\n",
       "      <td>484.30</td>\n",
       "      <td>34205.66</td>\n",
       "      <td>60</td>\n",
       "      <td>0.0702</td>\n",
       "      <td>Toyota Sienna</td>\n",
       "    </tr>\n",
       "    <tr>\n",
       "      <th>1</th>\n",
       "      <td>2</td>\n",
       "      <td>34205.66</td>\n",
       "      <td>687.23</td>\n",
       "      <td>200.10</td>\n",
       "      <td>487.13</td>\n",
       "      <td>33718.53</td>\n",
       "      <td>60</td>\n",
       "      <td>0.0702</td>\n",
       "      <td>Toyota Sienna</td>\n",
       "    </tr>\n",
       "    <tr>\n",
       "      <th>2</th>\n",
       "      <td>3</td>\n",
       "      <td>33718.53</td>\n",
       "      <td>687.23</td>\n",
       "      <td>197.25</td>\n",
       "      <td>489.98</td>\n",
       "      <td>33228.55</td>\n",
       "      <td>60</td>\n",
       "      <td>0.0702</td>\n",
       "      <td>Toyota Sienna</td>\n",
       "    </tr>\n",
       "    <tr>\n",
       "      <th>3</th>\n",
       "      <td>4</td>\n",
       "      <td>33228.55</td>\n",
       "      <td>687.23</td>\n",
       "      <td>194.38</td>\n",
       "      <td>492.85</td>\n",
       "      <td>32735.70</td>\n",
       "      <td>60</td>\n",
       "      <td>0.0702</td>\n",
       "      <td>Toyota Sienna</td>\n",
       "    </tr>\n",
       "    <tr>\n",
       "      <th>4</th>\n",
       "      <td>5</td>\n",
       "      <td>32735.70</td>\n",
       "      <td>687.23</td>\n",
       "      <td>191.50</td>\n",
       "      <td>495.73</td>\n",
       "      <td>32239.97</td>\n",
       "      <td>60</td>\n",
       "      <td>0.0702</td>\n",
       "      <td>Toyota Sienna</td>\n",
       "    </tr>\n",
       "  </tbody>\n",
       "</table>\n",
       "</div>"
      ]
     },
     "metadata": {},
     "execution_count": 6
    }
   ],
   "metadata": {}
  },
  {
   "cell_type": "code",
   "execution_count": 12,
   "source": [
    "student_grades = {'John': {'math': 'A', 'phys': 'B', 'bio': 'C'},\n",
    "                    'Jane': {'math': 'B', 'phys': 'A', 'bio': 'D'},\n",
    "                    'Bob': {'math': 'B', 'phys': 'B', 'bio': 'D'},\n",
    "                    'Alice': {'math': 'A', 'phys': 'D', 'bio': 'C'},\n",
    "                    'Tim': {'math': 'B', 'phys': 'A', 'bio': 'B'}}\n",
    "\n",
    "df = pd.DataFrame(data=student_grades)\n",
    "df"
   ],
   "outputs": [
    {
     "output_type": "execute_result",
     "data": {
      "text/plain": [
       "     John Jane Bob Alice Tim\n",
       "math    A    B   B     A   B\n",
       "phys    B    A   B     D   A\n",
       "bio     C    D   D     C   B"
      ],
      "text/html": [
       "<div>\n",
       "<style scoped>\n",
       "    .dataframe tbody tr th:only-of-type {\n",
       "        vertical-align: middle;\n",
       "    }\n",
       "\n",
       "    .dataframe tbody tr th {\n",
       "        vertical-align: top;\n",
       "    }\n",
       "\n",
       "    .dataframe thead th {\n",
       "        text-align: right;\n",
       "    }\n",
       "</style>\n",
       "<table border=\"1\" class=\"dataframe\">\n",
       "  <thead>\n",
       "    <tr style=\"text-align: right;\">\n",
       "      <th></th>\n",
       "      <th>John</th>\n",
       "      <th>Jane</th>\n",
       "      <th>Bob</th>\n",
       "      <th>Alice</th>\n",
       "      <th>Tim</th>\n",
       "    </tr>\n",
       "  </thead>\n",
       "  <tbody>\n",
       "    <tr>\n",
       "      <th>math</th>\n",
       "      <td>A</td>\n",
       "      <td>B</td>\n",
       "      <td>B</td>\n",
       "      <td>A</td>\n",
       "      <td>B</td>\n",
       "    </tr>\n",
       "    <tr>\n",
       "      <th>phys</th>\n",
       "      <td>B</td>\n",
       "      <td>A</td>\n",
       "      <td>B</td>\n",
       "      <td>D</td>\n",
       "      <td>A</td>\n",
       "    </tr>\n",
       "    <tr>\n",
       "      <th>bio</th>\n",
       "      <td>C</td>\n",
       "      <td>D</td>\n",
       "      <td>D</td>\n",
       "      <td>C</td>\n",
       "      <td>B</td>\n",
       "    </tr>\n",
       "  </tbody>\n",
       "</table>\n",
       "</div>"
      ]
     },
     "metadata": {},
     "execution_count": 12
    }
   ],
   "metadata": {}
  },
  {
   "cell_type": "code",
   "execution_count": 16,
   "source": [
    "df.to_numpy()"
   ],
   "outputs": [
    {
     "output_type": "execute_result",
     "data": {
      "text/plain": [
       "array([['A', 'B', 'B', 'A', 'B'],\n",
       "       ['B', 'A', 'B', 'D', 'A'],\n",
       "       ['C', 'D', 'D', 'C', 'B']], dtype=object)"
      ]
     },
     "metadata": {},
     "execution_count": 16
    }
   ],
   "metadata": {}
  },
  {
   "cell_type": "code",
   "execution_count": 17,
   "source": [
    "df.to_dict()"
   ],
   "outputs": [
    {
     "output_type": "execute_result",
     "data": {
      "text/plain": [
       "{'John': {'math': 'A', 'phys': 'B', 'bio': 'C'},\n",
       " 'Jane': {'math': 'B', 'phys': 'A', 'bio': 'D'},\n",
       " 'Bob': {'math': 'B', 'phys': 'B', 'bio': 'D'},\n",
       " 'Alice': {'math': 'A', 'phys': 'D', 'bio': 'C'},\n",
       " 'Tim': {'math': 'B', 'phys': 'A', 'bio': 'B'}}"
      ]
     },
     "metadata": {},
     "execution_count": 17
    }
   ],
   "metadata": {}
  },
  {
   "cell_type": "code",
   "execution_count": 18,
   "source": [
    "df.to_csv(path_or_buf='student_grades.csv', index=False)"
   ],
   "outputs": [],
   "metadata": {}
  },
  {
   "cell_type": "code",
   "execution_count": 22,
   "source": [
    "%pip install openpyxl"
   ],
   "outputs": [
    {
     "output_type": "stream",
     "name": "stdout",
     "text": [
      "Collecting openpyxl\n",
      "  Downloading openpyxl-3.0.7-py2.py3-none-any.whl (243 kB)\n",
      "\u001b[K     |████████████████████████████████| 243 kB 447 kB/s \n",
      "\u001b[?25hCollecting et-xmlfile\n",
      "  Downloading et_xmlfile-1.1.0-py3-none-any.whl (4.7 kB)\n",
      "Installing collected packages: et-xmlfile, openpyxl\n",
      "Successfully installed et-xmlfile-1.1.0 openpyxl-3.0.7\n",
      "Note: you may need to restart the kernel to use updated packages.\n"
     ]
    }
   ],
   "metadata": {}
  },
  {
   "cell_type": "code",
   "execution_count": 23,
   "source": [
    "df.to_excel(excel_writer='student_grades.xlsx', index=False)"
   ],
   "outputs": [],
   "metadata": {}
  },
  {
   "cell_type": "code",
   "execution_count": 24,
   "source": [
    "df.values"
   ],
   "outputs": [
    {
     "output_type": "execute_result",
     "data": {
      "text/plain": [
       "array([['A', 'B', 'B', 'A', 'B'],\n",
       "       ['B', 'A', 'B', 'D', 'A'],\n",
       "       ['C', 'D', 'D', 'C', 'B']], dtype=object)"
      ]
     },
     "metadata": {},
     "execution_count": 24
    }
   ],
   "metadata": {}
  },
  {
   "cell_type": "code",
   "execution_count": null,
   "source": [],
   "outputs": [],
   "metadata": {}
  }
 ],
 "metadata": {
  "orig_nbformat": 4,
  "language_info": {
   "name": "python",
   "version": "3.9.6",
   "mimetype": "text/x-python",
   "codemirror_mode": {
    "name": "ipython",
    "version": 3
   },
   "pygments_lexer": "ipython3",
   "nbconvert_exporter": "python",
   "file_extension": ".py"
  },
  "kernelspec": {
   "name": "python3",
   "display_name": "Python 3.9.6 64-bit"
  },
  "interpreter": {
   "hash": "aee8b7b246df8f9039afb4144a1f6fd8d2ca17a180786b69acc140d282b71a49"
  }
 },
 "nbformat": 4,
 "nbformat_minor": 2
}